{
 "cells": [
  {
   "cell_type": "markdown",
   "id": "579b5168-58a2-471f-93bc-53f8690b4f00",
   "metadata": {},
   "source": [
    "# <font color='#5581A5'> Natural Language Processing"
   ]
  },
  {
   "cell_type": "markdown",
   "id": "d1b4c637-7af9-4200-bffd-5f8663c65d3d",
   "metadata": {},
   "source": [
    "<font color=#5581A5> **The objective of this project is twofold: to delve into the study of natural language processing (NLP) while advancing further in the exploration of Jupyter Notebook and Python.**\n",
    "\n",
    "Several practices will be employed in this study:\n",
    "\n",
    "1- Below certain commands, there will be a summary of their meanings.\n",
    "\n",
    "2- All text will be written in English.\n",
    "\n",
    "3- The data has been extracted from exercises on the Alura platform."
   ]
  },
  {
   "cell_type": "markdown",
   "id": "3ad8494e-ac2e-4acd-808c-74f348f04b72",
   "metadata": {},
   "source": [
    "# About\n",
    "\n",
    "In this project, two main topics are covered:\n",
    "\n",
    "Regular Expressions (Regex) for Natural Language Processing (NLP).\n",
    "How to use Regex in NLP and specifically in Python.\n",
    "Language Models.\n",
    "    \n",
    "What they are, how to build them, and practical applications, such as creating an automatic language detector.\n",
    "The course starts by utilizing data from Stackoverflow, which contains irrelevant elements like tags and code snippets. Regex is used to clean these texts. After cleaning, the creation of the language model begins. However, a simple model might not meet all requirements and can produce strange results.\n",
    "\n",
    "- Regex (Regular Expressions):\n",
    "\n",
    "A sequence of characters that forms a search pattern, mainly used for string matching and manipulation. In NLP, Regex can be used to identify and clean specific patterns in text data.\n",
    "Natural Language Processing (NLP):\n",
    "\n",
    "A field of artificial intelligence focused on the interaction between computers and humans through natural language. It involves the ability to read, understand, and generate human language.\n",
    "Language Models:\n",
    "\n",
    "Computational models that can understand and generate human language. They are used for various applications, such as language translation, sentiment analysis, and automatic text generation.\n",
    "Stackoverflow:\n",
    "\n",
    "A popular question-and-answer website for programmers. It has a vast database of questions and answers, including code snippets, which can be used for data analysis and model training.\n",
    "Tags and Code Snippets:\n",
    "\n",
    "- Tags: Labels used to categorize content, often irrelevant in NLP tasks focused on textual content.\n",
    "- Code Snippets: Small blocks of code embedded within text, which can be noisy data in language processing tasks."
   ]
  },
  {
   "cell_type": "code",
   "execution_count": 1,
   "id": "74f76b6e-ca13-4dc9-8402-fe98894eac86",
   "metadata": {},
   "outputs": [],
   "source": [
    "# Imports\n",
    "\n",
    "import nltk\n",
    "import pandas as pd\n",
    "import re\n",
    "\n",
    "from nltk import bigrams\n",
    "from nltk.lm.preprocessing import pad_both_ends\n",
    "from sklearn.model_selection import train_test_split\n",
    "from nltk.tokenize import WhitespaceTokenizer\n",
    "from nltk.lm.preprocessing import padded_everygram_pipeline\n",
    "from nltk.lm import MLE\n",
    "from nltk.lm import NgramCounter\n",
    "from nltk.lm import Laplace\n",
    "\n",
    "data_pt = pd.read_csv('https://raw.githubusercontent.com/alura-cursos/nlp-modelos-linguagem/master/dataset/stackoverflow_portugues.csv')\n",
    "data_en = pd.read_csv('https://raw.githubusercontent.com/alura-cursos/nlp-modelos-linguagem/master/dataset/stackoverflow_ingles.csv')"
   ]
  },
  {
   "cell_type": "code",
   "execution_count": 2,
   "id": "89c54901-19e4-4f6e-80f2-f8bfb9912b80",
   "metadata": {},
   "outputs": [
    {
     "data": {
      "text/html": [
       "<div>\n",
       "<style scoped>\n",
       "    .dataframe tbody tr th:only-of-type {\n",
       "        vertical-align: middle;\n",
       "    }\n",
       "\n",
       "    .dataframe tbody tr th {\n",
       "        vertical-align: top;\n",
       "    }\n",
       "\n",
       "    .dataframe thead th {\n",
       "        text-align: right;\n",
       "    }\n",
       "</style>\n",
       "<table border=\"1\" class=\"dataframe\">\n",
       "  <thead>\n",
       "    <tr style=\"text-align: right;\">\n",
       "      <th></th>\n",
       "      <th>Id</th>\n",
       "      <th>Título</th>\n",
       "      <th>Questão</th>\n",
       "      <th>Tags</th>\n",
       "      <th>Pontuação</th>\n",
       "      <th>Visualizações</th>\n",
       "    </tr>\n",
       "  </thead>\n",
       "  <tbody>\n",
       "    <tr>\n",
       "      <th>0</th>\n",
       "      <td>2402</td>\n",
       "      <td>Como fazer hash de senhas de forma segura?</td>\n",
       "      <td>&lt;p&gt;Se eu fizer o &lt;em&gt;&lt;a href=\"http://pt.wikipe...</td>\n",
       "      <td>&lt;hash&gt;&lt;segurança&gt;&lt;senhas&gt;&lt;criptografia&gt;</td>\n",
       "      <td>350</td>\n",
       "      <td>22367</td>\n",
       "    </tr>\n",
       "    <tr>\n",
       "      <th>1</th>\n",
       "      <td>6441</td>\n",
       "      <td>Qual é a diferença entre INNER JOIN e OUTER JOIN?</td>\n",
       "      <td>&lt;p&gt;Qual é a diferença entre &lt;code&gt;INNER JOIN&lt;/...</td>\n",
       "      <td>&lt;sql&gt;&lt;join&gt;</td>\n",
       "      <td>276</td>\n",
       "      <td>176953</td>\n",
       "    </tr>\n",
       "    <tr>\n",
       "      <th>2</th>\n",
       "      <td>579</td>\n",
       "      <td>Por que não devemos usar funções do tipo mysql_*?</td>\n",
       "      <td>&lt;p&gt;Uma dúvida muito comum é por que devemos pa...</td>\n",
       "      <td>&lt;php&gt;&lt;mysql&gt;</td>\n",
       "      <td>226</td>\n",
       "      <td>9761</td>\n",
       "    </tr>\n",
       "    <tr>\n",
       "      <th>3</th>\n",
       "      <td>2539</td>\n",
       "      <td>As mensagens de erro devem se desculpar?</td>\n",
       "      <td>&lt;p&gt;É comum encontrar uma mensagem de erro que ...</td>\n",
       "      <td>&lt;aplicação-web&gt;&lt;gui&gt;&lt;console&gt;&lt;ux&gt;</td>\n",
       "      <td>214</td>\n",
       "      <td>5075</td>\n",
       "    </tr>\n",
       "    <tr>\n",
       "      <th>4</th>\n",
       "      <td>17501</td>\n",
       "      <td>Qual é a diferença de API, biblioteca e Framew...</td>\n",
       "      <td>&lt;p&gt;Me parecem termos muito próximos e eventual...</td>\n",
       "      <td>&lt;api&gt;&lt;framework&gt;&lt;terminologia&gt;&lt;biblioteca&gt;</td>\n",
       "      <td>193</td>\n",
       "      <td>54191</td>\n",
       "    </tr>\n",
       "    <tr>\n",
       "      <th>...</th>\n",
       "      <td>...</td>\n",
       "      <td>...</td>\n",
       "      <td>...</td>\n",
       "      <td>...</td>\n",
       "      <td>...</td>\n",
       "      <td>...</td>\n",
       "    </tr>\n",
       "    <tr>\n",
       "      <th>495</th>\n",
       "      <td>194857</td>\n",
       "      <td>O que é Polyfill?</td>\n",
       "      <td>&lt;p&gt;Já vi esse termo &lt;em&gt;Polyfill&lt;/em&gt; sendo ut...</td>\n",
       "      <td>&lt;javascript&gt;&lt;terminologia&gt;&lt;polyfill&gt;</td>\n",
       "      <td>26</td>\n",
       "      <td>6860</td>\n",
       "    </tr>\n",
       "    <tr>\n",
       "      <th>496</th>\n",
       "      <td>323137</td>\n",
       "      <td>Pra que serve o comando LOCK TABLES?</td>\n",
       "      <td>&lt;p&gt;Esses dias me deparei com um trecho de um S...</td>\n",
       "      <td>&lt;mysql&gt;</td>\n",
       "      <td>26</td>\n",
       "      <td>657</td>\n",
       "    </tr>\n",
       "    <tr>\n",
       "      <th>497</th>\n",
       "      <td>232958</td>\n",
       "      <td>O que é um valor opaco?</td>\n",
       "      <td>&lt;p&gt;Por vezes vejo em documentações ou especifi...</td>\n",
       "      <td>&lt;nomenclatura&gt;</td>\n",
       "      <td>26</td>\n",
       "      <td>587</td>\n",
       "    </tr>\n",
       "    <tr>\n",
       "      <th>498</th>\n",
       "      <td>227907</td>\n",
       "      <td>O que são Proxy, Gateway e Tunnel no protocolo...</td>\n",
       "      <td>&lt;p&gt;Na especificação do protocolo HTTP, mais pr...</td>\n",
       "      <td>&lt;http&gt;</td>\n",
       "      <td>26</td>\n",
       "      <td>625</td>\n",
       "    </tr>\n",
       "    <tr>\n",
       "      <th>499</th>\n",
       "      <td>34042</td>\n",
       "      <td>Recortar imagem com javascript</td>\n",
       "      <td>&lt;p&gt;Eu preciso fazer o upload de uma foto e em ...</td>\n",
       "      <td>&lt;php&gt;&lt;javascript&gt;&lt;jquery&gt;</td>\n",
       "      <td>26</td>\n",
       "      <td>1537</td>\n",
       "    </tr>\n",
       "  </tbody>\n",
       "</table>\n",
       "<p>500 rows × 6 columns</p>\n",
       "</div>"
      ],
      "text/plain": [
       "         Id                                             Título  \\\n",
       "0      2402         Como fazer hash de senhas de forma segura?   \n",
       "1      6441  Qual é a diferença entre INNER JOIN e OUTER JOIN?   \n",
       "2       579  Por que não devemos usar funções do tipo mysql_*?   \n",
       "3      2539           As mensagens de erro devem se desculpar?   \n",
       "4     17501  Qual é a diferença de API, biblioteca e Framew...   \n",
       "..      ...                                                ...   \n",
       "495  194857                                  O que é Polyfill?   \n",
       "496  323137               Pra que serve o comando LOCK TABLES?   \n",
       "497  232958                            O que é um valor opaco?   \n",
       "498  227907  O que são Proxy, Gateway e Tunnel no protocolo...   \n",
       "499   34042                     Recortar imagem com javascript   \n",
       "\n",
       "                                               Questão  \\\n",
       "0    <p>Se eu fizer o <em><a href=\"http://pt.wikipe...   \n",
       "1    <p>Qual é a diferença entre <code>INNER JOIN</...   \n",
       "2    <p>Uma dúvida muito comum é por que devemos pa...   \n",
       "3    <p>É comum encontrar uma mensagem de erro que ...   \n",
       "4    <p>Me parecem termos muito próximos e eventual...   \n",
       "..                                                 ...   \n",
       "495  <p>Já vi esse termo <em>Polyfill</em> sendo ut...   \n",
       "496  <p>Esses dias me deparei com um trecho de um S...   \n",
       "497  <p>Por vezes vejo em documentações ou especifi...   \n",
       "498  <p>Na especificação do protocolo HTTP, mais pr...   \n",
       "499  <p>Eu preciso fazer o upload de uma foto e em ...   \n",
       "\n",
       "                                           Tags  Pontuação  Visualizações  \n",
       "0       <hash><segurança><senhas><criptografia>        350          22367  \n",
       "1                                   <sql><join>        276         176953  \n",
       "2                                  <php><mysql>        226           9761  \n",
       "3             <aplicação-web><gui><console><ux>        214           5075  \n",
       "4    <api><framework><terminologia><biblioteca>        193          54191  \n",
       "..                                          ...        ...            ...  \n",
       "495        <javascript><terminologia><polyfill>         26           6860  \n",
       "496                                     <mysql>         26            657  \n",
       "497                              <nomenclatura>         26            587  \n",
       "498                                      <http>         26            625  \n",
       "499                   <php><javascript><jquery>         26           1537  \n",
       "\n",
       "[500 rows x 6 columns]"
      ]
     },
     "execution_count": 2,
     "metadata": {},
     "output_type": "execute_result"
    }
   ],
   "source": [
    "# Checking dataset portuguese\n",
    "\n",
    "data_pt"
   ]
  },
  {
   "cell_type": "code",
   "execution_count": 3,
   "id": "4b313355-c327-4d62-a1f3-270a12138e60",
   "metadata": {},
   "outputs": [
    {
     "data": {
      "text/html": [
       "<div>\n",
       "<style scoped>\n",
       "    .dataframe tbody tr th:only-of-type {\n",
       "        vertical-align: middle;\n",
       "    }\n",
       "\n",
       "    .dataframe tbody tr th {\n",
       "        vertical-align: top;\n",
       "    }\n",
       "\n",
       "    .dataframe thead th {\n",
       "        text-align: right;\n",
       "    }\n",
       "</style>\n",
       "<table border=\"1\" class=\"dataframe\">\n",
       "  <thead>\n",
       "    <tr style=\"text-align: right;\">\n",
       "      <th></th>\n",
       "      <th>Id</th>\n",
       "      <th>Título</th>\n",
       "      <th>Questão</th>\n",
       "      <th>Tags</th>\n",
       "      <th>Pontuação</th>\n",
       "      <th>Visualizações</th>\n",
       "    </tr>\n",
       "  </thead>\n",
       "  <tbody>\n",
       "    <tr>\n",
       "      <th>0</th>\n",
       "      <td>11227809</td>\n",
       "      <td>Why is it faster to process a sorted array tha...</td>\n",
       "      <td>&lt;p&gt;Here is a piece of C++ code that seems very...</td>\n",
       "      <td>&lt;java&gt;&lt;c++&gt;&lt;performance&gt;&lt;optimization&gt;&lt;branch-...</td>\n",
       "      <td>23057</td>\n",
       "      <td>1358574</td>\n",
       "    </tr>\n",
       "    <tr>\n",
       "      <th>1</th>\n",
       "      <td>927358</td>\n",
       "      <td>How do I undo the most recent local commits in...</td>\n",
       "      <td>&lt;p&gt;I accidentally committed the wrong files to...</td>\n",
       "      <td>&lt;git&gt;&lt;version-control&gt;&lt;git-commit&gt;&lt;undo&gt;</td>\n",
       "      <td>19640</td>\n",
       "      <td>7906137</td>\n",
       "    </tr>\n",
       "    <tr>\n",
       "      <th>2</th>\n",
       "      <td>2003505</td>\n",
       "      <td>How do I delete a Git branch locally and remot...</td>\n",
       "      <td>&lt;p&gt;I want to delete a branch both locally and ...</td>\n",
       "      <td>&lt;git&gt;&lt;git-branch&gt;&lt;git-remote&gt;</td>\n",
       "      <td>15249</td>\n",
       "      <td>6940906</td>\n",
       "    </tr>\n",
       "    <tr>\n",
       "      <th>3</th>\n",
       "      <td>292357</td>\n",
       "      <td>What is the difference between 'git pull' and ...</td>\n",
       "      <td>&lt;blockquote&gt;\\n  &lt;p&gt;&lt;strong&gt;Moderator Note:&lt;/st...</td>\n",
       "      <td>&lt;git&gt;&lt;git-pull&gt;&lt;git-fetch&gt;</td>\n",
       "      <td>11008</td>\n",
       "      <td>2543052</td>\n",
       "    </tr>\n",
       "    <tr>\n",
       "      <th>4</th>\n",
       "      <td>477816</td>\n",
       "      <td>What is the correct JSON content type?</td>\n",
       "      <td>&lt;p&gt;I've been messing around with &lt;a href=\"http...</td>\n",
       "      <td>&lt;json&gt;&lt;http-headers&gt;&lt;content-type&gt;</td>\n",
       "      <td>9701</td>\n",
       "      <td>2478940</td>\n",
       "    </tr>\n",
       "    <tr>\n",
       "      <th>...</th>\n",
       "      <td>...</td>\n",
       "      <td>...</td>\n",
       "      <td>...</td>\n",
       "      <td>...</td>\n",
       "      <td>...</td>\n",
       "      <td>...</td>\n",
       "    </tr>\n",
       "    <tr>\n",
       "      <th>495</th>\n",
       "      <td>6237295</td>\n",
       "      <td>How can I update NodeJS and NPM to the next ve...</td>\n",
       "      <td>&lt;p&gt;I just installed &lt;code&gt;Node.js&lt;/code&gt; and &lt;...</td>\n",
       "      <td>&lt;node.js&gt;&lt;npm&gt;&lt;node-modules&gt;&lt;npm-update&gt;</td>\n",
       "      <td>1477</td>\n",
       "      <td>1279392</td>\n",
       "    </tr>\n",
       "    <tr>\n",
       "      <th>496</th>\n",
       "      <td>9033</td>\n",
       "      <td>Hidden Features of C#?</td>\n",
       "      <td>&lt;p&gt;This came to my mind after I learned the fo...</td>\n",
       "      <td>&lt;c#&gt;&lt;hidden-features&gt;</td>\n",
       "      <td>1476</td>\n",
       "      <td>659870</td>\n",
       "    </tr>\n",
       "    <tr>\n",
       "      <th>497</th>\n",
       "      <td>5411538</td>\n",
       "      <td>Redirect from an HTML page</td>\n",
       "      <td>&lt;p&gt;Is it possible to set up a basic HTML page ...</td>\n",
       "      <td>&lt;html&gt;&lt;xhtml&gt;&lt;meta&gt;&lt;html-head&gt;</td>\n",
       "      <td>1476</td>\n",
       "      <td>3091553</td>\n",
       "    </tr>\n",
       "    <tr>\n",
       "      <th>498</th>\n",
       "      <td>2763006</td>\n",
       "      <td>Make the current Git branch a master branch</td>\n",
       "      <td>&lt;p&gt;I have a repository in Git. I made a branch...</td>\n",
       "      <td>&lt;git&gt;</td>\n",
       "      <td>1474</td>\n",
       "      <td>653714</td>\n",
       "    </tr>\n",
       "    <tr>\n",
       "      <th>499</th>\n",
       "      <td>997482</td>\n",
       "      <td>Does Java support default parameter values?</td>\n",
       "      <td>&lt;p&gt;I came across some Java code that had the f...</td>\n",
       "      <td>&lt;java&gt;&lt;methods&gt;&lt;parameters&gt;&lt;overloading&gt;&lt;defau...</td>\n",
       "      <td>1472</td>\n",
       "      <td>1033672</td>\n",
       "    </tr>\n",
       "  </tbody>\n",
       "</table>\n",
       "<p>500 rows × 6 columns</p>\n",
       "</div>"
      ],
      "text/plain": [
       "           Id                                             Título  \\\n",
       "0    11227809  Why is it faster to process a sorted array tha...   \n",
       "1      927358  How do I undo the most recent local commits in...   \n",
       "2     2003505  How do I delete a Git branch locally and remot...   \n",
       "3      292357  What is the difference between 'git pull' and ...   \n",
       "4      477816             What is the correct JSON content type?   \n",
       "..        ...                                                ...   \n",
       "495   6237295  How can I update NodeJS and NPM to the next ve...   \n",
       "496      9033                             Hidden Features of C#?   \n",
       "497   5411538                         Redirect from an HTML page   \n",
       "498   2763006        Make the current Git branch a master branch   \n",
       "499    997482        Does Java support default parameter values?   \n",
       "\n",
       "                                               Questão  \\\n",
       "0    <p>Here is a piece of C++ code that seems very...   \n",
       "1    <p>I accidentally committed the wrong files to...   \n",
       "2    <p>I want to delete a branch both locally and ...   \n",
       "3    <blockquote>\\n  <p><strong>Moderator Note:</st...   \n",
       "4    <p>I've been messing around with <a href=\"http...   \n",
       "..                                                 ...   \n",
       "495  <p>I just installed <code>Node.js</code> and <...   \n",
       "496  <p>This came to my mind after I learned the fo...   \n",
       "497  <p>Is it possible to set up a basic HTML page ...   \n",
       "498  <p>I have a repository in Git. I made a branch...   \n",
       "499  <p>I came across some Java code that had the f...   \n",
       "\n",
       "                                                  Tags  Pontuação  \\\n",
       "0    <java><c++><performance><optimization><branch-...      23057   \n",
       "1             <git><version-control><git-commit><undo>      19640   \n",
       "2                        <git><git-branch><git-remote>      15249   \n",
       "3                           <git><git-pull><git-fetch>      11008   \n",
       "4                   <json><http-headers><content-type>       9701   \n",
       "..                                                 ...        ...   \n",
       "495           <node.js><npm><node-modules><npm-update>       1477   \n",
       "496                              <c#><hidden-features>       1476   \n",
       "497                     <html><xhtml><meta><html-head>       1476   \n",
       "498                                              <git>       1474   \n",
       "499  <java><methods><parameters><overloading><defau...       1472   \n",
       "\n",
       "     Visualizações  \n",
       "0          1358574  \n",
       "1          7906137  \n",
       "2          6940906  \n",
       "3          2543052  \n",
       "4          2478940  \n",
       "..             ...  \n",
       "495        1279392  \n",
       "496         659870  \n",
       "497        3091553  \n",
       "498         653714  \n",
       "499        1033672  \n",
       "\n",
       "[500 rows x 6 columns]"
      ]
     },
     "execution_count": 3,
     "metadata": {},
     "output_type": "execute_result"
    }
   ],
   "source": [
    "# Checking dataset english\n",
    "\n",
    "data_en"
   ]
  },
  {
   "cell_type": "code",
   "execution_count": 4,
   "id": "5e7bf134-fd46-4421-9190-d301a07e98f7",
   "metadata": {},
   "outputs": [
    {
     "data": {
      "text/plain": [
       "['<p>', '<p>', '<p>', '<p>']"
      ]
     },
     "execution_count": 4,
     "metadata": {},
     "output_type": "execute_result"
    }
   ],
   "source": [
    "# Using regex to find a pattern on column\n",
    "\n",
    "# Gathering the first \"questao\" in portuguese\n",
    "\n",
    "question_pt = data_pt.Questão[0]\n",
    "\n",
    "# Applying regex\n",
    "\n",
    "re.findall(r'<p>', question_pt)"
   ]
  },
  {
   "cell_type": "code",
   "execution_count": 5,
   "id": "595c5b88-8b8c-423f-bab5-7fae5b57ed5d",
   "metadata": {},
   "outputs": [
    {
     "data": {
      "text/plain": [
       "['<p>',\n",
       " '<em>',\n",
       " '<a href=\"http://pt.wikipedia.org/wiki/Fun%C3%A7%C3%A3o_de_embaralhamento_criptogr%C3%A1fico\" rel=\"noreferrer\">',\n",
       " '</a>',\n",
       " '</em>',\n",
       " '</p>',\n",
       " '<p>',\n",
       " '<a href=\"http://pt.wikipedia.org/wiki/Ataque_de_for%C3%A7a_bruta\" rel=\"noreferrer\">',\n",
       " '</a>',\n",
       " '<em>',\n",
       " '<a href=\"http://pt.wikipedia.org/wiki/Keylogger\" rel=\"noreferrer\">',\n",
       " '</a>',\n",
       " '</em>',\n",
       " '<a href=\"http://pt.wikipedia.org/wiki/Criptoan%C3%A1lise_de_mangueira_de_borracha\" rel=\"noreferrer\">',\n",
       " '<em>',\n",
       " '</em>',\n",
       " '</a>',\n",
       " '<em>',\n",
       " '</em>',\n",
       " '</p>',\n",
       " '<p>',\n",
       " '</p>',\n",
       " '<p>',\n",
       " '<em>',\n",
       " '</em>',\n",
       " '</p>']"
      ]
     },
     "execution_count": 5,
     "metadata": {},
     "output_type": "execute_result"
    }
   ],
   "source": [
    "# Applying refined regex to find all tags\n",
    "\n",
    "re.findall(r'<.*?>', question_pt)"
   ]
  },
  {
   "cell_type": "code",
   "execution_count": 6,
   "id": "fd3b1207-a446-463a-8afc-6880c2014615",
   "metadata": {},
   "outputs": [
    {
     "name": "stdout",
     "output_type": "stream",
     "text": [
      " T---E---S---T Se eu fizer o  T---E---S---T  T---E---S---T hash T---E---S---T  T---E---S---T  de senhas antes de armazená-las em meu banco de dados é suficiente para evitar que elas sejam recuperadas por alguém? T---E---S---T \n",
      "\n",
      " T---E---S---T Estou falando apenas da recuperação diretamente do banco de dados e não qualquer outro tipo de ataque, como  T---E---S---T força bruta T---E---S---T  na página de login da aplicação,  T---E---S---T  T---E---S---T keylogger T---E---S---T  T---E---S---T  no cliente e  T---E---S---T criptoanálise  T---E---S---T rubberhose T---E---S---T  T---E---S---T . Qualquer forma de  T---E---S---T hash T---E---S---T  não vai impedir esses ataques. T---E---S---T \n",
      "\n",
      " T---E---S---T Tenho preocupação em dificultar ou até impossibilitar a obtenção das senhas originais caso o banco de dados seja comprometido. Como dar maior garantia de segurança neste aspecto? T---E---S---T \n",
      "\n",
      " T---E---S---T Quais preocupações adicionais evitariam o acesso às senhas? Existem formas melhores de fazer esse  T---E---S---T hash T---E---S---T ? T---E---S---T \n",
      "\n"
     ]
    }
   ],
   "source": [
    "# Chaning the text inside the tags\n",
    "\n",
    "sub_pt = re.sub(r'<.*?>', ' T---E---S---T ', question_pt)\n",
    "print(sub_pt)"
   ]
  },
  {
   "cell_type": "code",
   "execution_count": 7,
   "id": "19d0f70a-0c71-485e-a984-e088008064c6",
   "metadata": {},
   "outputs": [
    {
     "name": "stdout",
     "output_type": "stream",
     "text": [
      "Se eu fizer o hash de senhas antes de armazená-las em meu banco de dados é suficiente para evitar que elas sejam recuperadas por alguém?\n",
      "\n",
      "Estou falando apenas da recuperação diretamente do banco de dados e não qualquer outro tipo de ataque, como força bruta na página de login da aplicação, keylogger no cliente e criptoanálise rubberhose. Qualquer forma de hash não vai impedir esses ataques.\n",
      "\n",
      "Tenho preocupação em dificultar ou até impossibilitar a obtenção das senhas originais caso o banco de dados seja comprometido. Como dar maior garantia de segurança neste aspecto?\n",
      "\n",
      "Quais preocupações adicionais evitariam o acesso às senhas? Existem formas melhores de fazer esse hash?\n",
      "\n"
     ]
    }
   ],
   "source": [
    "# Creating fuction to remove html tags\n",
    "\n",
    "def remove(texts, regex):\n",
    "    if type(texts) == str:\n",
    "        return regex.sub(\"\", texts)\n",
    "    else:\n",
    "        return [regex.sub(\"\", text) for text in texts]\n",
    "\n",
    "# Testing\n",
    "\n",
    "regex_html = re.compile(r'<.*?>')\n",
    "no_tag_question = remove(question_pt, regex_html)\n",
    "print(no_tag_question)"
   ]
  },
  {
   "cell_type": "code",
   "execution_count": 8,
   "id": "53087b76-9949-4f93-bc98-ed07648e53e2",
   "metadata": {},
   "outputs": [
    {
     "name": "stdout",
     "output_type": "stream",
     "text": [
      "<p>Here is a piece of C++ code that seems very peculiar. For some strange reason, sorting the data miraculously makes the code almost six times faster.</p>\n",
      "\n",
      "<pre class=\"lang-cpp prettyprint-override\">CODE</pre>\n",
      "\n",
      "<ul>\n",
      "<li>Without CODE, the code runs in 11.54 seconds.</li>\n",
      "<li>With the sorted data, the code runs in 1.93 seconds.</li>\n",
      "</ul>\n",
      "\n",
      "<p>Initially, I thought this might be just a language or compiler anomaly. So I tried it in Java.</p>\n",
      "\n",
      "<pre class=\"lang-java prettyprint-override\">CODE</pre>\n",
      "\n",
      "<p>With a somewhat similar but less extreme result.</p>\n",
      "\n",
      "<hr>\n",
      "\n",
      "<p>My first thought was that sorting brings the data into the cache, but then I thought how silly that is because the array was just generated.</p>\n",
      "\n",
      "<ul>\n",
      "<li>What is going on?</li>\n",
      "<li>Why is it faster to process a sorted array than an unsorted array?</li>\n",
      "<li>The code is summing up some independent terms, and the order should not matter.</li>\n",
      "</ul>\n",
      "\n"
     ]
    }
   ],
   "source": [
    "# Creating function to remove a code inside the text using the <code> tag\n",
    "\n",
    "def remove_code(texts, regex):\n",
    "    if type(texts) == str:\n",
    "        return regex.sub(\"CODE\", texts)\n",
    "    else:\n",
    "        return [regex.sub(\"CODE\", text) for text in texts]\n",
    "\n",
    "# Testing\n",
    "\n",
    "question_en = data_en.Questão[0]\n",
    "regex_code = re.compile(r'<code>(.|(\\n))*?</code>')\n",
    "no_code_question = remove_code(question_en, regex_code)\n",
    "print(no_code_question)"
   ]
  },
  {
   "cell_type": "code",
   "execution_count": 9,
   "id": "ca722e7b-b2c3-4012-bee4-62de6a911998",
   "metadata": {},
   "outputs": [],
   "source": [
    "# Now lets apply the subs to the dataset\n",
    "\n",
    "question_en_no_code = remove_code(data_en.Questão, regex_code)\n",
    "question_en_no_tags  = remove(question_en_no_code, regex_html)\n",
    "data_en['No Tags'] = question_en_no_tags\n",
    "\n",
    "question_pt_no_code = remove_code(data_pt.Questão, regex_code)\n",
    "question_pt_no_tags  = remove(question_pt_no_code, regex_html)\n",
    "data_pt['No Tags'] = question_pt_no_tags"
   ]
  },
  {
   "cell_type": "code",
   "execution_count": 10,
   "id": "81238520-309f-46a5-82df-ac25a22650d6",
   "metadata": {},
   "outputs": [],
   "source": [
    "# Another treatments\n",
    "\n",
    "# Lowering all words\n",
    "\n",
    "def lower_text(texts):\n",
    "    if type(texts) == str:\n",
    "        return texts.lower()\n",
    "    else:\n",
    "        return [text.lower() for text in texts]\n",
    "\n",
    "# Regex punctuation\n",
    "\n",
    "regex_punctuation = re.compile(r'[^\\w\\s]')\n",
    "\n",
    "# Regex duplicate spaces\n",
    "\n",
    "regex_space = re.compile(r' +')\n",
    "\n",
    "# Regex break line\n",
    "\n",
    "regex_break_line = re.compile(r'(\\n)')\n",
    "\n",
    "# Regex remove digits\n",
    "\n",
    "regex_digits = re.compile(r'\\d+')\n",
    "\n",
    "def remove_space(texts, regex):\n",
    "    if type(texts) == str:\n",
    "        return regex.sub(\" \", texts)\n",
    "    else:\n",
    "        return [regex.sub(\" \", text) for text in texts]"
   ]
  },
  {
   "cell_type": "code",
   "execution_count": 11,
   "id": "2822f3cd-c4be-4a30-8db2-70ae1b10b406",
   "metadata": {},
   "outputs": [],
   "source": [
    "# Removing punctuation\n",
    "\n",
    "question_en_no_punc = remove(question_en_no_tags, regex_punctuation)\n",
    "question_en_min = lower_text(question_en_no_punc)\n",
    "question_en_no_digits = remove(question_en_min, regex_digits)\n",
    "question_en_no_break = remove_space(question_en_no_digits, regex_break_line)\n",
    "question_en_no_space = remove_space(question_en_no_break, regex_space)\n",
    "\n",
    "question_pt_no_punc = remove(question_pt_no_tags, regex_punctuation)\n",
    "question_pt_min = lower_text(question_pt_no_punc)\n",
    "question_pt_no_digits = remove(question_pt_min, regex_digits)\n",
    "question_pt_no_break = remove_space(question_pt_no_digits, regex_break_line)\n",
    "question_pt_no_space = remove_space(question_pt_no_break, regex_space)\n",
    "\n",
    "# Creating new column\n",
    "\n",
    "data_en['Treated Data'] = question_en_no_space\n",
    "data_pt['Treated Data'] = question_pt_no_space\n",
    "\n",
    "# Creating new column\n",
    "\n",
    "data_en['language'] = 'English'\n",
    "data_pt['idioma'] = 'Portugues'"
   ]
  },
  {
   "cell_type": "code",
   "execution_count": 12,
   "id": "bfe59437-a699-4d3f-83b6-335c453ff408",
   "metadata": {},
   "outputs": [
    {
     "name": "stdout",
     "output_type": "stream",
     "text": [
      "21510\n"
     ]
    }
   ],
   "source": [
    "# Separating data in train/test english\n",
    "\n",
    "en_train, en_test = train_test_split(data_en['Treated Data'], test_size=0.2, random_state=123)\n",
    "\n",
    "# Agregating all words to variable and applying tokenize\n",
    "\n",
    "all_words_en = ''.join(en_train)\n",
    "all_words_token_en = WhitespaceTokenizer().tokenize(all_words_en)\n",
    "print(len(all_words_token_en))"
   ]
  },
  {
   "cell_type": "code",
   "execution_count": 13,
   "id": "9a015a1e-02f9-4318-8233-95fb870825b9",
   "metadata": {},
   "outputs": [
    {
     "name": "stdout",
     "output_type": "stream",
     "text": [
      "36716\n"
     ]
    }
   ],
   "source": [
    "# Separating data in train/test portuguese\n",
    "\n",
    "pt_train, pt_test = train_test_split(data_pt['Treated Data'], test_size=0.2, random_state=123)\n",
    "\n",
    "# Agregating all words to variable and applying tokenize\n",
    "\n",
    "all_words_pt = ''.join(pt_train)\n",
    "all_words_token_pt = WhitespaceTokenizer().tokenize(all_words_pt)\n",
    "print(len(all_words_token_pt))"
   ]
  },
  {
   "cell_type": "code",
   "execution_count": 14,
   "id": "ff4bdbca-3dce-4101-a5f1-cbe41b26cc2c",
   "metadata": {},
   "outputs": [],
   "source": [
    "# Applying padding to bigram en\n",
    "\n",
    "train_bigram_en, vocab_en = padded_everygram_pipeline(2, all_words_token_en)\n",
    "\n",
    "# Applying padding to bigram pt\n",
    "\n",
    "train_bigram_pt, vocab_pt = padded_everygram_pipeline(2, all_words_token_pt)"
   ]
  },
  {
   "cell_type": "code",
   "execution_count": 15,
   "id": "e4db2984-7770-4471-aab8-aac045facd68",
   "metadata": {},
   "outputs": [],
   "source": [
    "# Creating MLE model english\n",
    "\n",
    "model_en = MLE(2)\n",
    "model_en.fit(train_bigram_en, vocab_en)\n",
    "\n",
    "# Creating MLE model Portuguese\n",
    "\n",
    "model_pt = MLE(2)\n",
    "model_pt.fit(train_bigram_pt, vocab_pt)"
   ]
  },
  {
   "cell_type": "code",
   "execution_count": 16,
   "id": "33c9e339-29b1-4882-b14f-e610b1c1cd58",
   "metadata": {},
   "outputs": [
    {
     "data": {
      "text/plain": [
       "dict_items([('o', 401), ('</s>', 1556), ('e', 1498), ('a', 119), ('d', 63), ('l', 16), ('i', 293), ('r', 37), ('y', 22), ('s', 65), ('n', 12), ('_', 2), ('p', 3), ('u', 49), ('c', 5), ('b', 2), ('k', 7), ('v', 1), ('t', 2), ('q', 2), ('g', 5), ('j', 2), ('f', 1), ('h', 1)])"
      ]
     },
     "execution_count": 16,
     "metadata": {},
     "output_type": "execute_result"
    }
   ],
   "source": [
    "# Lets try to see what are the common letters that in the first letter of the bigram has 'd'\n",
    "\n",
    "model_en.counts[['d']].items()\n",
    "\n",
    "# We can check that the fake char is the most common 'letter' after d"
   ]
  },
  {
   "cell_type": "code",
   "execution_count": 17,
   "id": "ddc0f1df-0a8e-4dc9-8e8d-f7b889aecb20",
   "metadata": {},
   "outputs": [
    {
     "name": "stdout",
     "output_type": "stream",
     "text": [
      "[[('<s>', 'g'), ('g', 'o'), ('o', 'o'), ('o', 'd'), ('d', '</s>')], [('<s>', 'm'), ('m', 'o'), ('o', 'r'), ('r', 'n'), ('n', 'i'), ('i', 'n'), ('n', 'g'), ('g', '</s>')]]\n"
     ]
    }
   ],
   "source": [
    "# Creating a test phrase\n",
    "\n",
    "phrase = 'good morning'\n",
    "words = WhitespaceTokenizer().tokenize(phrase)\n",
    "\n",
    "# Applying fakechar on words\n",
    "\n",
    "words_fakechar = [list(pad_both_ends(word, n = 2)) for word in words]\n",
    "words_bigram = [list(bigrams(word)) for word in words_fakechar]\n",
    "print(words_bigram)"
   ]
  },
  {
   "cell_type": "code",
   "execution_count": 18,
   "id": "d349a5eb-c48d-4ed3-99e6-0f0351183aea",
   "metadata": {},
   "outputs": [
    {
     "name": "stdout",
     "output_type": "stream",
     "text": [
      "17.26133308212415 12.900755877319751\n"
     ]
    }
   ],
   "source": [
    "# Calculating perplexity of the word compared to our model\n",
    "\n",
    "print(model_en.perplexity(words_bigram[0]), model_en.perplexity(words_bigram[1]))"
   ]
  },
  {
   "cell_type": "code",
   "execution_count": 19,
   "id": "20f9f19d-233b-4db7-8c3b-1a19353d5856",
   "metadata": {},
   "outputs": [
    {
     "name": "stdout",
     "output_type": "stream",
     "text": [
      "17.26133308212415 12.900755877319751\n"
     ]
    }
   ],
   "source": [
    "# Creating function to train model\n",
    "\n",
    "def model_train_mle(text_list):\n",
    "    all_questions = ' '.join(text_list)\n",
    "    all_words = WhitespaceTokenizer().tokenize(all_questions)\n",
    "    bigrams, vocab = padded_everygram_pipeline(2, all_words)\n",
    "    model = MLE(2)\n",
    "    model.fit(bigrams, vocab)\n",
    "    return model\n",
    "\n",
    "# Checking to see if the results are the same\n",
    "\n",
    "model_test_en = model_train_mle(en_train)\n",
    "print(model_test_en.perplexity(words_bigram[0]), model_test_en.perplexity(words_bigram[1]))"
   ]
  },
  {
   "cell_type": "code",
   "execution_count": 20,
   "id": "823e3b8a-50f8-43f6-a921-6551663a8b18",
   "metadata": {},
   "outputs": [
    {
     "name": "stdout",
     "output_type": "stream",
     "text": [
      "30.1620889594439\n"
     ]
    }
   ],
   "source": [
    "# Creating function to calculate perplexity\n",
    "\n",
    "def perplexity_calculate(model, text):\n",
    "\n",
    "    perplexity = 0\n",
    "    words = WhitespaceTokenizer().tokenize(text)\n",
    "    words_fakechar = [list(pad_both_ends(word, n = 2)) for word in words]\n",
    "    words_bigram = [list(bigrams(word)) for word in words_fakechar]\n",
    "\n",
    "\n",
    "    for word in words_bigram:\n",
    "        perplexity += model.perplexity(word)\n",
    "\n",
    "    return perplexity\n",
    "\n",
    "# Testing\n",
    "\n",
    "print(perplexity_calculate(model_en, \"good morning\"))"
   ]
  },
  {
   "cell_type": "code",
   "execution_count": 21,
   "id": "1b7ac459-3b1b-49a6-b985-9d91a25c7f7f",
   "metadata": {},
   "outputs": [
    {
     "name": "stdout",
     "output_type": "stream",
     "text": [
      "195.21299687285554\n"
     ]
    }
   ],
   "source": [
    "# Calculating for our first row\n",
    "\n",
    "print(perplexity_calculate(model_en, en_test.iloc[0]))"
   ]
  },
  {
   "cell_type": "code",
   "execution_count": 22,
   "id": "54ae62c4-50fc-4e36-b708-c8b1ef6f19fe",
   "metadata": {},
   "outputs": [
    {
     "name": "stdout",
     "output_type": "stream",
     "text": [
      "inf\n"
     ]
    }
   ],
   "source": [
    "# Now let see how it goes on pt_test\n",
    "\n",
    "print(perplexity_calculate(model_en, pt_test.iloc[0]))\n",
    "\n",
    "# In this situation the probability goes to infinite since theres no word on pt_test related to model_en, so by using perplexity we are dividing 1/0 which tends to infinite"
   ]
  },
  {
   "cell_type": "code",
   "execution_count": 23,
   "id": "05d6249b-3235-45f9-bf24-23afaa93372d",
   "metadata": {},
   "outputs": [],
   "source": [
    "# Lets use laplace model to avoid those probabilities\n",
    "\n",
    "def model_train_laplace(text_list):\n",
    "    all_questions = ' '.join(text_list)\n",
    "    all_words = WhitespaceTokenizer().tokenize(all_questions)\n",
    "    bigrams, vocab = padded_everygram_pipeline(2, all_words)\n",
    "    model = Laplace(2)\n",
    "    model.fit(bigrams, vocab)\n",
    "    return model"
   ]
  },
  {
   "cell_type": "code",
   "execution_count": 24,
   "id": "8cf4cf59-7815-4367-b19d-e3c7471e69e6",
   "metadata": {},
   "outputs": [
    {
     "name": "stdout",
     "output_type": "stream",
     "text": [
      "5065.0486897292585\n"
     ]
    }
   ],
   "source": [
    "# Creating laplace model english\n",
    "\n",
    "model_en_laplace = model_train_laplace(en_test)\n",
    "\n",
    "# Checking if the result tends to infinite\n",
    "\n",
    "print(perplexity_calculate(model_en_laplace, pt_test.iloc[0]))"
   ]
  },
  {
   "cell_type": "code",
   "execution_count": 25,
   "id": "7fe6f129-aa4b-4d7b-aaa7-0da3e8a25e06",
   "metadata": {},
   "outputs": [
    {
     "name": "stdout",
     "output_type": "stream",
     "text": [
      "2009.1937946178912\n"
     ]
    }
   ],
   "source": [
    "# Creating laplace model english\n",
    "\n",
    "model_pt_laplace = model_train_laplace(pt_train)\n",
    "\n",
    "# Checking if the result tends to infinite\n",
    "\n",
    "print(perplexity_calculate(model_pt_laplace, pt_test.iloc[0]))"
   ]
  },
  {
   "cell_type": "code",
   "execution_count": 26,
   "id": "b3666b99-123a-4ad5-a10f-4e00a16c4b6c",
   "metadata": {},
   "outputs": [],
   "source": [
    "# Creating function to decide in what language is the text\n",
    "\n",
    "def language_decision(text_list):\n",
    "    language = []\n",
    "    for text in text_list:\n",
    "        pt = perplexity_calculate(model_pt_laplace, text)\n",
    "        en = perplexity_calculate(model_en_laplace, text)\n",
    "        if en >= pt:\n",
    "            language.append('port')\n",
    "        else:\n",
    "            language.append('eng')\n",
    "\n",
    "    return language"
   ]
  },
  {
   "cell_type": "code",
   "execution_count": 27,
   "id": "aa60078c-9e8a-421f-aa54-fe3ad1da653f",
   "metadata": {},
   "outputs": [
    {
     "name": "stdout",
     "output_type": "stream",
     "text": [
      "100 100\n"
     ]
    }
   ],
   "source": [
    "# Checking if the function is working\n",
    "\n",
    "results_en = language_decision(en_test)\n",
    "print(len(en_test), results_en.count('eng'))"
   ]
  },
  {
   "cell_type": "code",
   "execution_count": null,
   "id": "b84b5a36-74e5-4e3e-a4a0-1a1d36fee638",
   "metadata": {},
   "outputs": [],
   "source": []
  }
 ],
 "metadata": {
  "kernelspec": {
   "display_name": "Python 3 (ipykernel)",
   "language": "python",
   "name": "python3"
  },
  "language_info": {
   "codemirror_mode": {
    "name": "ipython",
    "version": 3
   },
   "file_extension": ".py",
   "mimetype": "text/x-python",
   "name": "python",
   "nbconvert_exporter": "python",
   "pygments_lexer": "ipython3",
   "version": "3.11.7"
  }
 },
 "nbformat": 4,
 "nbformat_minor": 5
}

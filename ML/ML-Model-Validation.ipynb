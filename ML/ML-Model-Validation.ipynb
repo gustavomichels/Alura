{
 "cells": [
  {
   "cell_type": "markdown",
   "id": "e6d3b4fc-ce23-4163-976d-06b73e6ab752",
   "metadata": {},
   "source": [
    "# <font color=purple> Machine Learning"
   ]
  },
  {
   "cell_type": "markdown",
   "id": "3c961afd-3934-4b64-9bc4-41587005bf2e",
   "metadata": {},
   "source": [
    "<font color=purple> **The objective of this project is twofold: to delve into the study of machine learning libraries while advancing further in the exploration of Jupyter Notebook and Python. The project encompasses a many dataset and offers a range of exercises involving those datasets.** <font>\n",
    "\n",
    "Several practices will be employed in this study:\n",
    "\n",
    "1- Below certain commands, there will be a summary of their meanings.\n",
    "\n",
    "2- All text will be written in English.\n",
    "\n",
    "3- The data has been extracted from exercises on the Alura platform.\n",
    "\n",
    "4- Each dataset will have a summary of its meaning."
   ]
  },
  {
   "cell_type": "markdown",
   "id": "8e6729d5-7e05-4190-b0a9-c933e77f0590",
   "metadata": {},
   "source": [
    "# About\n",
    "\n",
    "The main dataset is a fictional database where each row represents a car for sale on an online store. The cars are from various different owners, and some of these cars have been sold while others have not. The \"sold\" column represents whether the cars have been sold or not: \"yes\" for sold cars and \"no\" for unsold ones. We have three features for each of the cars: firstly, \"mileage per year\" represents how many miles the car has traveled per year; \"model year\" represents the year of each model (which is different from the year of manufacture); and finally, we have the \"price,\" i.e., the selling price of each car.\n",
    "\n",
    "The objective of this project its to validate the models from a past project, that you can find on my github at : \"ML/ML-SKLearn\"."
   ]
  },
  {
   "cell_type": "code",
   "execution_count": 1,
   "id": "409109d8-8b0a-4cc0-8621-b604ec0718e9",
   "metadata": {
    "tags": []
   },
   "outputs": [
    {
     "data": {
      "text/html": [
       "<div>\n",
       "<style scoped>\n",
       "    .dataframe tbody tr th:only-of-type {\n",
       "        vertical-align: middle;\n",
       "    }\n",
       "\n",
       "    .dataframe tbody tr th {\n",
       "        vertical-align: top;\n",
       "    }\n",
       "\n",
       "    .dataframe thead th {\n",
       "        text-align: right;\n",
       "    }\n",
       "</style>\n",
       "<table border=\"1\" class=\"dataframe\">\n",
       "  <thead>\n",
       "    <tr style=\"text-align: right;\">\n",
       "      <th></th>\n",
       "      <th>Unnamed: 0</th>\n",
       "      <th>mileage_per_year</th>\n",
       "      <th>model_year</th>\n",
       "      <th>price</th>\n",
       "      <th>sold</th>\n",
       "    </tr>\n",
       "  </thead>\n",
       "  <tbody>\n",
       "    <tr>\n",
       "      <th>0</th>\n",
       "      <td>0</td>\n",
       "      <td>21801</td>\n",
       "      <td>2000</td>\n",
       "      <td>30941.02</td>\n",
       "      <td>yes</td>\n",
       "    </tr>\n",
       "    <tr>\n",
       "      <th>1</th>\n",
       "      <td>1</td>\n",
       "      <td>7843</td>\n",
       "      <td>1998</td>\n",
       "      <td>40557.96</td>\n",
       "      <td>yes</td>\n",
       "    </tr>\n",
       "    <tr>\n",
       "      <th>2</th>\n",
       "      <td>2</td>\n",
       "      <td>7109</td>\n",
       "      <td>2006</td>\n",
       "      <td>89627.50</td>\n",
       "      <td>no</td>\n",
       "    </tr>\n",
       "    <tr>\n",
       "      <th>3</th>\n",
       "      <td>3</td>\n",
       "      <td>26823</td>\n",
       "      <td>2015</td>\n",
       "      <td>95276.14</td>\n",
       "      <td>no</td>\n",
       "    </tr>\n",
       "    <tr>\n",
       "      <th>4</th>\n",
       "      <td>4</td>\n",
       "      <td>7935</td>\n",
       "      <td>2014</td>\n",
       "      <td>117384.68</td>\n",
       "      <td>yes</td>\n",
       "    </tr>\n",
       "    <tr>\n",
       "      <th>...</th>\n",
       "      <td>...</td>\n",
       "      <td>...</td>\n",
       "      <td>...</td>\n",
       "      <td>...</td>\n",
       "      <td>...</td>\n",
       "    </tr>\n",
       "    <tr>\n",
       "      <th>9995</th>\n",
       "      <td>9995</td>\n",
       "      <td>15572</td>\n",
       "      <td>2006</td>\n",
       "      <td>97112.86</td>\n",
       "      <td>no</td>\n",
       "    </tr>\n",
       "    <tr>\n",
       "      <th>9996</th>\n",
       "      <td>9996</td>\n",
       "      <td>13246</td>\n",
       "      <td>2002</td>\n",
       "      <td>107424.63</td>\n",
       "      <td>yes</td>\n",
       "    </tr>\n",
       "    <tr>\n",
       "      <th>9997</th>\n",
       "      <td>9997</td>\n",
       "      <td>13018</td>\n",
       "      <td>2014</td>\n",
       "      <td>93856.99</td>\n",
       "      <td>no</td>\n",
       "    </tr>\n",
       "    <tr>\n",
       "      <th>9998</th>\n",
       "      <td>9998</td>\n",
       "      <td>10464</td>\n",
       "      <td>2011</td>\n",
       "      <td>51250.57</td>\n",
       "      <td>yes</td>\n",
       "    </tr>\n",
       "    <tr>\n",
       "      <th>9999</th>\n",
       "      <td>9999</td>\n",
       "      <td>12362</td>\n",
       "      <td>1999</td>\n",
       "      <td>87945.73</td>\n",
       "      <td>no</td>\n",
       "    </tr>\n",
       "  </tbody>\n",
       "</table>\n",
       "<p>10000 rows × 5 columns</p>\n",
       "</div>"
      ],
      "text/plain": [
       "      Unnamed: 0  mileage_per_year  model_year      price sold\n",
       "0              0             21801        2000   30941.02  yes\n",
       "1              1              7843        1998   40557.96  yes\n",
       "2              2              7109        2006   89627.50   no\n",
       "3              3             26823        2015   95276.14   no\n",
       "4              4              7935        2014  117384.68  yes\n",
       "...          ...               ...         ...        ...  ...\n",
       "9995        9995             15572        2006   97112.86   no\n",
       "9996        9996             13246        2002  107424.63  yes\n",
       "9997        9997             13018        2014   93856.99   no\n",
       "9998        9998             10464        2011   51250.57  yes\n",
       "9999        9999             12362        1999   87945.73   no\n",
       "\n",
       "[10000 rows x 5 columns]"
      ]
     },
     "execution_count": 1,
     "metadata": {},
     "output_type": "execute_result"
    }
   ],
   "source": [
    "# Imports\n",
    "\n",
    "import pandas as pd\n",
    "import numpy as np\n",
    "from datetime import datetime\n",
    "\n",
    "# SKLearn imports\n",
    "\n",
    "from sklearn.model_selection import train_test_split\n",
    "from sklearn.svm import LinearSVC\n",
    "from sklearn.metrics import accuracy_score\n",
    "from sklearn.dummy import DummyClassifier\n",
    "from sklearn.tree import DecisionTreeClassifier\n",
    "from sklearn.model_selection import cross_validate\n",
    "from sklearn.model_selection import KFold\n",
    "from sklearn.model_selection import StratifiedKFold\n",
    "from sklearn.model_selection import GroupKFold\n",
    "from sklearn.preprocessing import StandardScaler\n",
    "from sklearn.svm import SVC\n",
    "from sklearn.pipeline import Pipeline\n",
    "\n",
    "# Datasets\n",
    "\n",
    "url_1 = 'https://gist.githubusercontent.com/guilhermesilveira/4d1d4a16ccbf6ea4e0a64a38a24ec884/raw/afd05cb0c796d18f3f5a6537053ded308ba94bf7/car-prices.csv'\n",
    "\n",
    "# Readers\n",
    "\n",
    "data_1 = pd.read_csv(url_1)\n",
    "data_1"
   ]
  },
  {
   "cell_type": "code",
   "execution_count": 2,
   "id": "cf4383e9-32f3-4481-a5c2-e534f632b6f0",
   "metadata": {
    "tags": []
   },
   "outputs": [
    {
     "data": {
      "text/html": [
       "<div>\n",
       "<style scoped>\n",
       "    .dataframe tbody tr th:only-of-type {\n",
       "        vertical-align: middle;\n",
       "    }\n",
       "\n",
       "    .dataframe tbody tr th {\n",
       "        vertical-align: top;\n",
       "    }\n",
       "\n",
       "    .dataframe thead th {\n",
       "        text-align: right;\n",
       "    }\n",
       "</style>\n",
       "<table border=\"1\" class=\"dataframe\">\n",
       "  <thead>\n",
       "    <tr style=\"text-align: right;\">\n",
       "      <th></th>\n",
       "      <th>price</th>\n",
       "      <th>sold</th>\n",
       "      <th>car_age</th>\n",
       "      <th>km_per_year</th>\n",
       "    </tr>\n",
       "  </thead>\n",
       "  <tbody>\n",
       "    <tr>\n",
       "      <th>0</th>\n",
       "      <td>30941.02</td>\n",
       "      <td>1</td>\n",
       "      <td>24</td>\n",
       "      <td>35085.22134</td>\n",
       "    </tr>\n",
       "    <tr>\n",
       "      <th>1</th>\n",
       "      <td>40557.96</td>\n",
       "      <td>1</td>\n",
       "      <td>26</td>\n",
       "      <td>12622.05362</td>\n",
       "    </tr>\n",
       "    <tr>\n",
       "      <th>2</th>\n",
       "      <td>89627.50</td>\n",
       "      <td>0</td>\n",
       "      <td>18</td>\n",
       "      <td>11440.79806</td>\n",
       "    </tr>\n",
       "    <tr>\n",
       "      <th>3</th>\n",
       "      <td>95276.14</td>\n",
       "      <td>0</td>\n",
       "      <td>9</td>\n",
       "      <td>43167.32682</td>\n",
       "    </tr>\n",
       "    <tr>\n",
       "      <th>4</th>\n",
       "      <td>117384.68</td>\n",
       "      <td>1</td>\n",
       "      <td>10</td>\n",
       "      <td>12770.11290</td>\n",
       "    </tr>\n",
       "  </tbody>\n",
       "</table>\n",
       "</div>"
      ],
      "text/plain": [
       "       price  sold  car_age  km_per_year\n",
       "0   30941.02     1       24  35085.22134\n",
       "1   40557.96     1       26  12622.05362\n",
       "2   89627.50     0       18  11440.79806\n",
       "3   95276.14     0        9  43167.32682\n",
       "4  117384.68     1       10  12770.11290"
      ]
     },
     "execution_count": 2,
     "metadata": {},
     "output_type": "execute_result"
    }
   ],
   "source": [
    "# Changing sold column\n",
    "\n",
    "replace = {\n",
    "    'yes': 1,\n",
    "    'no':0\n",
    "}\n",
    "\n",
    "data_1['car_age'] = datetime.today().year - data_1.model_year\n",
    "\n",
    "# Creating a new column called \"km_per_year\", since we are in brazil we use the KM notification not miles\n",
    "\n",
    "data_1['km_per_year'] = data_1.mileage_per_year * 1.60934 # Miles to KM\n",
    "\n",
    "data_1['sold'] = data_1.sold.map(replace)\n",
    "\n",
    "# Drop unnecessary columns\n",
    "\n",
    "data_1 = data_1.drop(columns = ['Unnamed: 0', 'mileage_per_year', 'model_year'], axis = 1)\n",
    "\n",
    "data_1.head()"
   ]
  },
  {
   "cell_type": "code",
   "execution_count": 3,
   "id": "a8a442d5-f74f-4fd4-af8e-8a9187a79a8e",
   "metadata": {
    "tags": []
   },
   "outputs": [
    {
     "name": "stdout",
     "output_type": "stream",
     "text": [
      "Training with: 7500 elements and Testing with: 2500 elements\n"
     ]
    }
   ],
   "source": [
    "# Splitting test and train\n",
    "\n",
    "x = data_1[['km_per_year','car_age','price']]\n",
    "y = data_1['sold']\n",
    "\n",
    "SEED = 158020\n",
    "np.random.seed(SEED)\n",
    "\n",
    "train_x, test_x, train_y, test_y = train_test_split(x,y, test_size = 0.25, stratify=y)\n",
    "print(f'Training with: {len(train_x)} elements and Testing with: {len(test_x)} elements')"
   ]
  },
  {
   "cell_type": "code",
   "execution_count": 4,
   "id": "583d009f-3891-489f-981e-96ae0bd37698",
   "metadata": {
    "tags": []
   },
   "outputs": [
    {
     "name": "stdout",
     "output_type": "stream",
     "text": [
      "Accuracy: 50.96000000000001 %\n"
     ]
    }
   ],
   "source": [
    "# Creating dummy classifier\n",
    "\n",
    "dummy_stratified = DummyClassifier(strategy='stratified')\n",
    "dummy_stratified.fit(train_x, train_y)\n",
    "accuracy = dummy_stratified.score(test_x, test_y) * 100\n",
    "\n",
    "print(f'Accuracy: {accuracy} %')"
   ]
  },
  {
   "cell_type": "code",
   "execution_count": 5,
   "id": "3adf9592-2329-4a2a-9c0b-20f841f58ca0",
   "metadata": {
    "tags": []
   },
   "outputs": [
    {
     "name": "stdout",
     "output_type": "stream",
     "text": [
      "Accuracy: 71.92 %\n"
     ]
    }
   ],
   "source": [
    "# Creating Decision Tree model\n",
    "\n",
    "model = DecisionTreeClassifier(max_depth=2)\n",
    "model.fit(train_x, train_y)\n",
    "prediction = model.predict(test_x)\n",
    "\n",
    "accuracy = accuracy_score(test_y, prediction) * 100\n",
    "print(f'Accuracy: {accuracy} %')"
   ]
  },
  {
   "cell_type": "code",
   "execution_count": 6,
   "id": "1a9b30b8-3b7d-4be3-bb61-c5c433b93873",
   "metadata": {
    "tags": []
   },
   "outputs": [
    {
     "name": "stdout",
     "output_type": "stream",
     "text": [
      "Accuracy Cross Validation 5: (75.20868572571656, 76.35131427428342)\n"
     ]
    }
   ],
   "source": [
    "# Creating cross validate (to avoid holdout)\n",
    "\n",
    "model = DecisionTreeClassifier(max_depth=2)\n",
    "results = cross_validate(model, x, y, cv=5, return_train_score=False)\n",
    "mean = results['test_score'].mean()\n",
    "std = results['test_score'].std()\n",
    "\n",
    "print(f'Accuracy Cross Validation 5: {((mean - 2 * std) * 100 , (mean + 2 * std) * 100)}')"
   ]
  },
  {
   "cell_type": "code",
   "execution_count": 7,
   "id": "012c4573-632f-499c-9985-4a8ba9814f85",
   "metadata": {
    "tags": []
   },
   "outputs": [
    {
     "name": "stdout",
     "output_type": "stream",
     "text": [
      "Mean: 75.79\n",
      "Accuracy Range: (72.84592119670685, 78.73407880329314)\n"
     ]
    }
   ],
   "source": [
    "# Creating function to print\n",
    "\n",
    "def print_result(results):\n",
    "    mean = results['test_score'].mean()\n",
    "    std = results['test_score'].std()\n",
    "    print(f'Mean: {mean * 100}')\n",
    "    print(f'Accuracy Range: {((mean - 2 * std) * 100 , (mean + 2 * std) * 100)}')\n",
    "    \n",
    "# Creating kfold to random the results\n",
    "\n",
    "cv = KFold(n_splits=10, shuffle=True)\n",
    "model = DecisionTreeClassifier(max_depth=2)\n",
    "results = cross_validate(model, x, y, cv=cv, return_train_score=False)\n",
    "\n",
    "print_result(results)"
   ]
  },
  {
   "cell_type": "code",
   "execution_count": 8,
   "id": "0f0d9341-6abd-48e3-a98e-5dcb568aa538",
   "metadata": {
    "tags": []
   },
   "outputs": [
    {
     "name": "stdout",
     "output_type": "stream",
     "text": [
      "Mean: 75.77999999999999\n",
      "Accuracy Range: (73.72126252280675, 77.83873747719323)\n"
     ]
    }
   ],
   "source": [
    "# Using stratified kfold, in a unbalance example\n",
    "\n",
    "data_unlucky = data_1.sort_values(\"sold\", ascending=True)\n",
    "x_un =data_unlucky[['km_per_year','car_age','price']]\n",
    "y_un = data_unlucky['sold']\n",
    "\n",
    "cv = StratifiedKFold(n_splits=10, shuffle=True)\n",
    "model = DecisionTreeClassifier(max_depth=2)\n",
    "results = cross_validate(model, x_un, y_un, cv=cv, return_train_score=False)\n",
    "\n",
    "print_result(results)"
   ]
  },
  {
   "cell_type": "code",
   "execution_count": 9,
   "id": "8456d458-f450-42a2-a94f-5dfb700b0394",
   "metadata": {
    "tags": []
   },
   "outputs": [
    {
     "data": {
      "text/html": [
       "<div>\n",
       "<style scoped>\n",
       "    .dataframe tbody tr th:only-of-type {\n",
       "        vertical-align: middle;\n",
       "    }\n",
       "\n",
       "    .dataframe tbody tr th {\n",
       "        vertical-align: top;\n",
       "    }\n",
       "\n",
       "    .dataframe thead th {\n",
       "        text-align: right;\n",
       "    }\n",
       "</style>\n",
       "<table border=\"1\" class=\"dataframe\">\n",
       "  <thead>\n",
       "    <tr style=\"text-align: right;\">\n",
       "      <th></th>\n",
       "      <th>price</th>\n",
       "      <th>sold</th>\n",
       "      <th>car_age</th>\n",
       "      <th>km_per_year</th>\n",
       "      <th>model</th>\n",
       "    </tr>\n",
       "  </thead>\n",
       "  <tbody>\n",
       "    <tr>\n",
       "      <th>0</th>\n",
       "      <td>30941.02</td>\n",
       "      <td>1</td>\n",
       "      <td>24</td>\n",
       "      <td>35085.22134</td>\n",
       "      <td>22</td>\n",
       "    </tr>\n",
       "    <tr>\n",
       "      <th>1</th>\n",
       "      <td>40557.96</td>\n",
       "      <td>1</td>\n",
       "      <td>26</td>\n",
       "      <td>12622.05362</td>\n",
       "      <td>28</td>\n",
       "    </tr>\n",
       "    <tr>\n",
       "      <th>2</th>\n",
       "      <td>89627.50</td>\n",
       "      <td>0</td>\n",
       "      <td>18</td>\n",
       "      <td>11440.79806</td>\n",
       "      <td>18</td>\n",
       "    </tr>\n",
       "    <tr>\n",
       "      <th>3</th>\n",
       "      <td>95276.14</td>\n",
       "      <td>0</td>\n",
       "      <td>9</td>\n",
       "      <td>43167.32682</td>\n",
       "      <td>10</td>\n",
       "    </tr>\n",
       "    <tr>\n",
       "      <th>4</th>\n",
       "      <td>117384.68</td>\n",
       "      <td>1</td>\n",
       "      <td>10</td>\n",
       "      <td>12770.11290</td>\n",
       "      <td>9</td>\n",
       "    </tr>\n",
       "  </tbody>\n",
       "</table>\n",
       "</div>"
      ],
      "text/plain": [
       "       price  sold  car_age  km_per_year  model\n",
       "0   30941.02     1       24  35085.22134     22\n",
       "1   40557.96     1       26  12622.05362     28\n",
       "2   89627.50     0       18  11440.79806     18\n",
       "3   95276.14     0        9  43167.32682     10\n",
       "4  117384.68     1       10  12770.11290      9"
      ]
     },
     "execution_count": 9,
     "metadata": {},
     "output_type": "execute_result"
    }
   ],
   "source": [
    "# Generating random car model data for clustering simulation when using our estimator\n",
    "\n",
    "SEED = 301\n",
    "np.random.seed(SEED)\n",
    "\n",
    "data_1['model'] = data_1.car_age + np.random.randint(-2,3, size=10000)\n",
    "data_1.head()"
   ]
  },
  {
   "cell_type": "code",
   "execution_count": 10,
   "id": "2c7d4049-1c19-45b7-b92a-5541b1564377",
   "metadata": {
    "tags": []
   },
   "outputs": [
    {
     "name": "stdout",
     "output_type": "stream",
     "text": [
      "Mean: 75.78421883757397\n",
      "Accuracy Range: (73.67184753288377, 77.89659014226416)\n"
     ]
    }
   ],
   "source": [
    "# Applying groupkfold\n",
    "\n",
    "cv = GroupKFold(n_splits=10)\n",
    "model = DecisionTreeClassifier(max_depth=2)\n",
    "results = cross_validate(model, x_un, y_un, cv=cv, groups=data_1.model ,return_train_score=False)\n",
    "\n",
    "print_result(results)"
   ]
  },
  {
   "cell_type": "code",
   "execution_count": 11,
   "id": "70f5928b-90cf-4b12-8afc-431514abab69",
   "metadata": {
    "tags": []
   },
   "outputs": [
    {
     "name": "stdout",
     "output_type": "stream",
     "text": [
      "Accuracy: 74.4 %\n"
     ]
    }
   ],
   "source": [
    "# Cross validation with StandardScaler\n",
    "\n",
    "scaler = StandardScaler()\n",
    "scaler.fit(train_x)\n",
    "train_x_scaler = scaler.transform(train_x)\n",
    "test_x_scaler = scaler.transform(test_x)\n",
    "\n",
    "model = SVC()\n",
    "model.fit(train_x_scaler, train_y)\n",
    "prediction = model.predict(test_x_scaler)\n",
    "\n",
    "accuracy = accuracy_score(test_y, prediction) * 100\n",
    "print(f'Accuracy: {accuracy} %')"
   ]
  },
  {
   "cell_type": "code",
   "execution_count": 13,
   "id": "8d6a1760-d3b6-4ed2-bba8-6fa3933ceda4",
   "metadata": {
    "tags": []
   },
   "outputs": [],
   "source": [
    "# Scaling x_un\n",
    "\n",
    "scaler = StandardScaler()\n",
    "scaler.fit(x_un)\n",
    "x_un_scaler = scaler.transform(x_un)"
   ]
  },
  {
   "cell_type": "code",
   "execution_count": 16,
   "id": "d6e99cfb-f2eb-43cb-a57f-ccd1fc3649d9",
   "metadata": {
    "tags": []
   },
   "outputs": [
    {
     "name": "stdout",
     "output_type": "stream",
     "text": [
      "Mean: 76.67947835217086\n",
      "Accuracy Range: (74.27639884416052, 79.0825578601812)\n"
     ]
    }
   ],
   "source": [
    "# Using pipeline\n",
    "\n",
    "SEED = 301\n",
    "np.random.seed(SEED)\n",
    "\n",
    "scaler = StandardScaler()\n",
    "model = SVC()\n",
    "pipeline = Pipeline([('scaler', scaler),('model', model)])\n",
    "\n",
    "cv = GroupKFold(n_splits=10)\n",
    "model = SVC()\n",
    "results = cross_validate(pipeline, x_un, y_un, cv=cv, groups=data_1.model ,return_train_score=False)\n",
    "\n",
    "print_result(results)"
   ]
  }
 ],
 "metadata": {
  "kernelspec": {
   "display_name": "Python 3 (ipykernel)",
   "language": "python",
   "name": "python3"
  },
  "language_info": {
   "codemirror_mode": {
    "name": "ipython",
    "version": 3
   },
   "file_extension": ".py",
   "mimetype": "text/x-python",
   "name": "python",
   "nbconvert_exporter": "python",
   "pygments_lexer": "ipython3",
   "version": "3.11.5"
  }
 },
 "nbformat": 4,
 "nbformat_minor": 5
}
